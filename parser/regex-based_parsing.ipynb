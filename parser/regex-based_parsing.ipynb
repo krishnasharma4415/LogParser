{
 "cells": [
  {
   "cell_type": "code",
   "execution_count": 3,
   "id": "5a70c858",
   "metadata": {},
   "outputs": [],
   "source": [
    "import re"
   ]
  },
  {
   "cell_type": "code",
   "execution_count": null,
   "id": "00fb6c59",
   "metadata": {},
   "outputs": [],
   "source": [
    "LOG_SCHEMAS = {\n",
    "    'Android': ['LineId', 'Date', 'Time', 'Pid', 'Tid', 'Level', 'Component', 'Content', 'EventId', 'EventTemplate'],\n",
    "    'Apache': ['LineId', 'Time', 'Level', 'Content', 'EventId', 'EventTemplate'],\n",
    "    'BGL': ['LineId', 'Label', 'Timestamp', 'Date', 'Node', 'Time', 'NodeRepeat', 'Type', 'Component', 'Level', 'Content', 'EventId', 'EventTemplate'],\n",
    "    'Hadoop': ['LineId', 'Date', 'Time', 'Level', 'Process', 'Component', 'Content', 'EventId', 'EventTemplate'],\n",
    "    'HDFS': ['LineId', 'Date', 'Time', 'Pid', 'Level', 'Component', 'Content', 'EventId', 'EventTemplate'],\n",
    "    'HealthApp': ['LineId', 'Time', 'Component', 'Pid', 'Content', 'EventId', 'EventTemplate'],\n",
    "    'HPC': ['LineId', 'LogId', 'Node', 'Component', 'State', 'Time', 'Flag', 'Content', 'EventId', 'EventTemplate'],\n",
    "    'Linux': ['LineId', 'Month', 'Date', 'Time', 'Level', 'Component', 'PID', 'Content', 'EventId', 'EventTemplate'],\n",
    "    'Mac': ['LineId', 'Month', 'Date', 'Time', 'User', 'Component', 'PID', 'Address', 'Content', 'EventId', 'EventTemplate'],\n",
    "    'OpenSSH': ['LineId', 'Date', 'Day', 'Time', 'Component', 'Pid', 'Content', 'EventId', 'EventTemplate'],\n",
    "    'OpenStack': ['LineId', 'Logrecord', 'Date', 'Time', 'Pid', 'Level', 'Component', 'ADDR', 'Content', 'EventId', 'EventTemplate'],\n",
    "    'Proxifier': ['LineId', 'Time', 'Program', 'Content', 'EventId', 'EventTemplate'],\n",
    "    'Spark': ['LineId', 'Date', 'Time', 'Level', 'Component', 'Content', 'EventId', 'EventTemplate'],\n",
    "    'Thunderbird': ['LineId', 'Label', 'Timestamp', 'Date', 'User', 'Month', 'Day', 'Time', 'Location', 'Component', 'PID', 'Content', 'EventId', 'EventTemplate'],\n",
    "    'Windows': ['LineId', 'Date', 'Time', 'Level', 'Component', 'Content', 'EventId', 'EventTemplate'],\n",
    "    'Zookeeper': ['LineId', 'Date', 'Time', 'Level', 'Node', 'Component', 'Id', 'Content', 'EventId', 'EventTemplate']\n",
    "}"
   ]
  },
  {
   "cell_type": "code",
   "execution_count": 8,
   "id": "d01c2f2e",
   "metadata": {},
   "outputs": [],
   "source": [
    "REGEX_PATTERNS = {\n",
    "    \"Android\": re.compile(\n",
    "        r\"(?P<Date>\\d{2}-\\d{2})\\s+(?P<Time>\\d{2}:\\d{2}:\\d{2}\\.\\d+)\\s+(?P<Pid>\\d+)\\s+(?P<Tid>\\d+)\\s+(?P<Level>[VDIWEF])\\s+(?P<Component>\\S+)\\s+(?P<Content>.+)\"\n",
    "    ),\n",
    "    \"Apache\": re.compile(\n",
    "        r\"(?P<Time>.+?)\\s+(?P<Level>\\w+)\\s+(?P<Content>.+)\"\n",
    "    ),\n",
    "    \"BGL\": re.compile(\n",
    "        r\"(?P<Label>[^,]+),(?P<Timestamp>\\d+),(?P<Date>[\\d.]+),(?P<Node>[^,]+),(?P<Time>[^,]+),(?P<NodeRepeat>[^,]+),(?P<Type>[^,]+),(?P<Component>[^,]+),(?P<Level>[^,]+),(?P<Content>.+)\"\n",
    "    ),\n",
    "    \"Hadoop\": re.compile(\n",
    "        r\"(?P<Date>\\d{4}-\\d{2}-\\d{2}),\\\"(?P<Time>[\\d:,]+)\\\",(?P<Level>\\w+),(?P<Process>[^,]+),(?P<Component>[^,]+),(?P<Content>.+)\"\n",
    "    ),\n",
    "    \"HDFS\": re.compile(\n",
    "        r\"(?P<Date>\\d+),(?P<Time>\\d+),(?P<Pid>\\d+),(?P<Level>\\w+),(?P<Component>[^,]+),(?P<Content>.+)\"\n",
    "    ),\n",
    "    \"HealthApp\": re.compile(\n",
    "        r\"(?P<Time>\\d{8}-\\d{2}:\\d{2}:\\d{2}:\\d+),(?P<Component>[^,]+),(?P<Pid>\\d+),(?P<Content>.+)\"\n",
    "    ),\n",
    "    \"HPC\": re.compile(\n",
    "        r\"(?P<LogId>\\d+),(?P<Node>[^,]+),(?P<Component>[^,]+),(?P<State>[^,]+),(?P<Time>\\d+),(?P<Flag>\\d+),(?P<Content>.+)\"\n",
    "    ),\n",
    "    \"Linux\": re.compile(\n",
    "        r\"(?P<Month>\\w+),(?P<Date>\\d+),(?P<Time>[\\d:]+),(?P<Level>\\w+),(?P<Component>[^(]+)\\((?P<PID>[^)]+)\\),(?P<Content>.+)\"\n",
    "    ),\n",
    "    \"Mac\": re.compile(\n",
    "        r\"(?P<Month>\\w+),(?P<Date>\\d+),(?P<Time>[\\d:]+),(?P<User>[^,]+),(?P<Component>[^,]+),(?P<PID>\\d+),(?P<Address>[^,]*),(?P<Content>.+)\"\n",
    "    ),\n",
    "    \"OpenSSH\": re.compile(\n",
    "        r\"(?P<Date>\\w+),(?P<Day>\\d+),(?P<Time>[\\d:]+),(?P<Component>[^,]+),(?P<Pid>\\d+),(?P<Content>.+)\"\n",
    "    ),\n",
    "    \"OpenStack\": re.compile(\n",
    "        r\"(?P<Logrecord>[^,]+),(?P<Date>\\d{4}-\\d{2}-\\d{2}),(?P<Time>[\\d:.]+),(?P<Pid>\\d+),(?P<Level>\\w+),(?P<Component>[^,]+),(?P<ADDR>[^,]+),\\\"(?P<Content>.+)\\\"\"\n",
    "    ),\n",
    "    \"Proxifier\": re.compile(\n",
    "        r\"(?P<Time>\\d{2}\\.\\d{2} \\d{2}:\\d{2}:\\d{2}),(?P<Program>[^,]+),(?P<Content>.+)\"\n",
    "    ),\n",
    "    \"Spark\": re.compile(\n",
    "        r\"(?P<Date>\\d{2}/\\d{2}/\\d{2}),(?P<Time>[\\d:]+),(?P<Level>\\w+),(?P<Component>[^,]+),\\\"(?P<Content>.+)\\\"\"\n",
    "    ),\n",
    "    \"Thunderbird\": re.compile(\n",
    "        r\"(?P<Label>[^,]+),(?P<Timestamp>\\d+),(?P<Date>[\\d.]+),(?P<User>[^,]+),(?P<Month>\\w+),(?P<Day>\\d+),(?P<Time>[\\d:]+),(?P<Location>[^,]+),(?P<Component>[^(]+)\\((?P<PID>[^\\)]+)\\),(?P<Content>.+)\"\n",
    "    ),\n",
    "    \"Windows\": re.compile(\n",
    "        r\"(?P<Date>\\d{4}-\\d{2}-\\d{2}),(?P<Time>\\d{2}:\\d{2}:\\d{2}),(?P<Level>\\w+),(?P<Component>[^,]+),(?P<Content>.+)\"\n",
    "    ),\n",
    "    \"Zookeeper\": re.compile(\n",
    "        r\"(?P<Date>\\d{4}-\\d{2}-\\d{2}),\\\"(?P<Time>[\\d:,]+)\\\",(?P<Level>\\w+),(?P<Node>[^,]+),(?P<Component>[^,]+),(?P<Id>\\d+),(?P<Content>.+)\"\n",
    "    ),\n",
    "}"
   ]
  },
  {
   "cell_type": "code",
   "execution_count": 9,
   "id": "64f4720d",
   "metadata": {},
   "outputs": [],
   "source": [
    "class SchemaSpecificParser:\n",
    "    def __init__(self, log_type):\n",
    "        self.log_type = log_type\n",
    "        self.pattern = REGEX_PATTERNS.get(log_type)\n",
    "        self.schema = LOG_SCHEMAS.get(log_type)\n",
    "\n",
    "    def parse(self, log_line):\n",
    "        if not self.pattern:\n",
    "            return {\"error\": \"No pattern defined\"}\n",
    "        \n",
    "        match = self.pattern.match(log_line)\n",
    "        if not match:\n",
    "            return {\"error\": \"Pattern did not match\"}\n",
    "        \n",
    "        return match.groupdict()"
   ]
  },
  {
   "cell_type": "code",
   "execution_count": 10,
   "id": "12d5fc5f",
   "metadata": {},
   "outputs": [
    {
     "name": "stdout",
     "output_type": "stream",
     "text": [
      "{'Date': '03-17', 'Time': '16:13:38.811', 'Pid': '1702', 'Tid': '2395', 'Level': 'D', 'Component': 'WindowManager', 'Content': 'Some message here'}\n"
     ]
    }
   ],
   "source": [
    "log = \"03-17 16:13:38.811 1702 2395 D WindowManager Some message here\"\n",
    "parser = SchemaSpecificParser(\"Android\")\n",
    "parsed_output = parser.parse(log)\n",
    "\n",
    "print(parsed_output)"
   ]
  }
 ],
 "metadata": {
  "kernelspec": {
   "display_name": ".venv",
   "language": "python",
   "name": "python3"
  },
  "language_info": {
   "codemirror_mode": {
    "name": "ipython",
    "version": 3
   },
   "file_extension": ".py",
   "mimetype": "text/x-python",
   "name": "python",
   "nbconvert_exporter": "python",
   "pygments_lexer": "ipython3",
   "version": "3.11.0"
  }
 },
 "nbformat": 4,
 "nbformat_minor": 5
}
