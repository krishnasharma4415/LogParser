{
 "cells": [
  {
   "cell_type": "code",
   "execution_count": 1,
   "metadata": {},
   "outputs": [],
   "source": [
    "import pandas as pd\n",
    "import re\n",
    "import os"
   ]
  },
  {
   "cell_type": "code",
   "execution_count": 2,
   "metadata": {},
   "outputs": [],
   "source": [
    "def read(folder_path):\n",
    "  log_arrays = {}\n",
    "  for filename in os.listdir(folder_path):\n",
    "    if filename.endswith('.log'):\n",
    "      with open(os.path.join(folder_path, filename), 'r') as f:\n",
    "        log_array = f.readlines()\n",
    "        log_name = filename[:-7]\n",
    "        log_arrays[log_name] = log_array\n",
    "        print(log_name)\n",
    "  return log_arrays"
   ]
  },
  {
   "cell_type": "code",
   "execution_count": 10,
   "metadata": {},
   "outputs": [
    {
     "name": "stdout",
     "output_type": "stream",
     "text": [
      "Android\n",
      "Apache\n",
      "BGL\n",
      "Hadoop\n",
      "HDFS\n",
      "HealthApp\n",
      "HPC\n",
      "Linux\n",
      "Mac\n",
      "OpenSSH\n",
      "OpenStack\n",
      "Proxifier\n",
      "Spark\n",
      "Thunderbird\n",
      "Windows\n",
      "Zookeeper\n"
     ]
    }
   ],
   "source": [
    "folder_path = \"../raw_data\"\n",
    "log_arrays = read(folder_path)"
   ]
  },
  {
   "cell_type": "code",
   "execution_count": 12,
   "metadata": {},
   "outputs": [],
   "source": [
    "def clean_and_normalize_logs(logs):\n",
    "\n",
    "    cleaned_logs = {}\n",
    "\n",
    "    for source, log_array in logs.items():\n",
    "        cleaned_log_array = []\n",
    "        for log in log_array:\n",
    "            cleaned_log = re.sub(r'[^\\w\\s]', '', log)\n",
    "            cleaned_log = re.sub(r'\\s+', ' ', cleaned_log).strip()\n",
    "            cleaned_log_array.append(cleaned_log)\n",
    "\n",
    "        cleaned_logs[source] = cleaned_log_array\n",
    "\n",
    "    return cleaned_logs\n",
    "\n",
    "logs = log_arrays\n",
    "cleaned_logs = clean_and_normalize_logs(logs)"
   ]
  },
  {
   "cell_type": "code",
   "execution_count": null,
   "metadata": {},
   "outputs": [],
   "source": []
  }
 ],
 "metadata": {
  "kernelspec": {
   "display_name": ".venv",
   "language": "python",
   "name": "python3"
  },
  "language_info": {
   "codemirror_mode": {
    "name": "ipython",
    "version": 3
   },
   "file_extension": ".py",
   "mimetype": "text/x-python",
   "name": "python",
   "nbconvert_exporter": "python",
   "pygments_lexer": "ipython3",
   "version": "3.12.4"
  }
 },
 "nbformat": 4,
 "nbformat_minor": 2
}
